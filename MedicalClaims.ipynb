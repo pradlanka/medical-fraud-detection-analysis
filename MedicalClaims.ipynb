{
 "cells": [
  {
   "cell_type": "code",
   "execution_count": 1,
   "metadata": {},
   "outputs": [],
   "source": [
    "# Load all the necessary packages\n",
    "import numpy as np\n",
    "import pandas as pd\n",
    "import matplotlib.pyplot as plt\n",
    "import seaborn as sns"
   ]
  },
  {
   "cell_type": "code",
   "execution_count": 2,
   "metadata": {},
   "outputs": [],
   "source": [
    "# Load the medical claims data\n",
    "benf_df = pd.read_csv('data\\Train_Beneficiarydata-1542865627584.csv')\n",
    "inpatient_df = pd.read_csv('data\\Train_Inpatientdata-1542865627584.csv')\n",
    "outpatient_df = pd.read_csv('data\\Train_Outpatientdata-1542865627584.csv')\n",
    "labels_df = pd.read_csv('data\\Train-1542865627584.csv')"
   ]
  },
  {
   "cell_type": "markdown",
   "metadata": {},
   "source": [
    "##### Lets first start with the labels first to get a general sense of the type of problem we are dealing with"
   ]
  },
  {
   "cell_type": "code",
   "execution_count": 7,
   "metadata": {},
   "outputs": [
    {
     "data": {
      "text/html": [
       "<div>\n",
       "<style scoped>\n",
       "    .dataframe tbody tr th:only-of-type {\n",
       "        vertical-align: middle;\n",
       "    }\n",
       "\n",
       "    .dataframe tbody tr th {\n",
       "        vertical-align: top;\n",
       "    }\n",
       "\n",
       "    .dataframe thead th {\n",
       "        text-align: right;\n",
       "    }\n",
       "</style>\n",
       "<table border=\"1\" class=\"dataframe\">\n",
       "  <thead>\n",
       "    <tr style=\"text-align: right;\">\n",
       "      <th></th>\n",
       "      <th>Provider</th>\n",
       "      <th>PotentialFraud</th>\n",
       "    </tr>\n",
       "  </thead>\n",
       "  <tbody>\n",
       "    <tr>\n",
       "      <th>0</th>\n",
       "      <td>PRV51001</td>\n",
       "      <td>No</td>\n",
       "    </tr>\n",
       "    <tr>\n",
       "      <th>1</th>\n",
       "      <td>PRV51003</td>\n",
       "      <td>Yes</td>\n",
       "    </tr>\n",
       "    <tr>\n",
       "      <th>2</th>\n",
       "      <td>PRV51004</td>\n",
       "      <td>No</td>\n",
       "    </tr>\n",
       "    <tr>\n",
       "      <th>3</th>\n",
       "      <td>PRV51005</td>\n",
       "      <td>Yes</td>\n",
       "    </tr>\n",
       "    <tr>\n",
       "      <th>4</th>\n",
       "      <td>PRV51007</td>\n",
       "      <td>No</td>\n",
       "    </tr>\n",
       "  </tbody>\n",
       "</table>\n",
       "</div>"
      ],
      "text/plain": [
       "   Provider PotentialFraud\n",
       "0  PRV51001             No\n",
       "1  PRV51003            Yes\n",
       "2  PRV51004             No\n",
       "3  PRV51005            Yes\n",
       "4  PRV51007             No"
      ]
     },
     "execution_count": 7,
     "metadata": {},
     "output_type": "execute_result"
    }
   ],
   "source": [
    "labels_df.head()"
   ]
  },
  {
   "cell_type": "code",
   "execution_count": 12,
   "metadata": {},
   "outputs": [
    {
     "name": "stdout",
     "output_type": "stream",
     "text": [
      "(5410, 2)\n"
     ]
    }
   ],
   "source": [
    "print(labels_df.shape)"
   ]
  },
  {
   "cell_type": "markdown",
   "metadata": {},
   "source": [
    "##### We have 5410 rows and 2 columns in the labels data frame. Now lets plot the counts of the potential fraud cases"
   ]
  },
  {
   "cell_type": "code",
   "execution_count": 14,
   "metadata": {},
   "outputs": [
    {
     "data": {
      "text/plain": [
       "<Axes: >"
      ]
     },
     "execution_count": 14,
     "metadata": {},
     "output_type": "execute_result"
    },
    {
     "data": {
      "image/png": "[encoded data removed]",
      "text/plain": [
       "<Figure size 640x480 with 1 Axes>"
      ]
     },
     "metadata": {},
     "output_type": "display_data"
    }
   ],
   "source": [
    "labels_df['PotentialFraud'].value_counts(normalize =True).plot(kind='bar')"
   ]
  },
  {
   "cell_type": "markdown",
   "metadata": {},
   "source": [
    "It is obvious that there are far more number of No than Yes in the data. So this uneuqal labels can make this a hard problem to solve. As we should not try to maximixe accuracy, but rather the sensitivity (i.e., true positive rate)"
   ]
  },
  {
   "cell_type": "markdown",
   "metadata": {},
   "source": [
    "#### First lets explore each data frame in some detail starting with inpatient_df"
   ]
  },
  {
   "cell_type": "code",
   "execution_count": 4,
   "metadata": {},
   "outputs": [
    {
     "name": "stdout",
     "output_type": "stream",
     "text": [
      "<class 'pandas.core.frame.DataFrame'>\n",
      "RangeIndex: 138556 entries, 0 to 138555\n",
      "Data columns (total 25 columns):\n",
      " #   Column                           Non-Null Count   Dtype \n",
      "---  ------                           --------------   ----- \n",
      " 0   BeneID                           138556 non-null  object\n",
      " 1   DOB                              138556 non-null  object\n",
      " 2   DOD                              1421 non-null    object\n",
      " 3   Gender                           138556 non-null  int64 \n",
      " 4   Race                             138556 non-null  int64 \n",
      " 5   RenalDiseaseIndicator            138556 non-null  object\n",
      " 6   State                            138556 non-null  int64 \n",
      " 7   County                           138556 non-null  int64 \n",
      " 8   NoOfMonths_PartACov              138556 non-null  int64 \n",
      " 9   NoOfMonths_PartBCov              138556 non-null  int64 \n",
      " 10  ChronicCond_Alzheimer            138556 non-null  int64 \n",
      " 11  ChronicCond_Heartfailure         138556 non-null  int64 \n",
      " 12  ChronicCond_KidneyDisease        138556 non-null  int64 \n",
      " 13  ChronicCond_Cancer               138556 non-null  int64 \n",
      " 14  ChronicCond_ObstrPulmonary       138556 non-null  int64 \n",
      " 15  ChronicCond_Depression           138556 non-null  int64 \n",
      " 16  ChronicCond_Diabetes             138556 non-null  int64 \n",
      " 17  ChronicCond_IschemicHeart        138556 non-null  int64 \n",
      " 18  ChronicCond_Osteoporasis         138556 non-null  int64 \n",
      " 19  ChronicCond_rheumatoidarthritis  138556 non-null  int64 \n",
      " 20  ChronicCond_stroke               138556 non-null  int64 \n",
      " 21  IPAnnualReimbursementAmt         138556 non-null  int64 \n",
      " 22  IPAnnualDeductibleAmt            138556 non-null  int64 \n",
      " 23  OPAnnualReimbursementAmt         138556 non-null  int64 \n",
      " 24  OPAnnualDeductibleAmt            138556 non-null  int64 \n",
      "dtypes: int64(21), object(4)\n",
      "memory usage: 26.4+ MB\n",
      "None\n"
     ]
    }
   ],
   "source": [
    "# Look at the column names and data types of the data frame\n",
    "print(benf_df.info())"
   ]
  },
  {
   "cell_type": "code",
   "execution_count": 5,
   "metadata": {},
   "outputs": [
    {
     "name": "stdout",
     "output_type": "stream",
     "text": [
      "      BeneID         DOB  DOD  Gender  Race RenalDiseaseIndicator  State  \\\n",
      "0  BENE11001  1943-01-01  NaN       1     1                     0     39   \n",
      "1  BENE11002  1936-09-01  NaN       2     1                     0     39   \n",
      "2  BENE11003  1936-08-01  NaN       1     1                     0     52   \n",
      "3  BENE11004  1922-07-01  NaN       1     1                     0     39   \n",
      "4  BENE11005  1935-09-01  NaN       1     1                     0     24   \n",
      "\n",
      "   County  NoOfMonths_PartACov  NoOfMonths_PartBCov  ...  \\\n",
      "0     230                   12                   12  ...   \n",
      "1     280                   12                   12  ...   \n",
      "2     590                   12                   12  ...   \n",
      "3     270                   12                   12  ...   \n",
      "4     680                   12                   12  ...   \n",
      "\n",
      "   ChronicCond_Depression  ChronicCond_Diabetes  ChronicCond_IschemicHeart  \\\n",
      "0                       1                     1                          1   \n",
      "1                       2                     2                          2   \n",
      "2                       2                     2                          1   \n",
      "3                       2                     1                          1   \n",
      "4                       2                     1                          2   \n",
      "\n",
      "   ChronicCond_Osteoporasis  ChronicCond_rheumatoidarthritis  \\\n",
      "0                         2                                1   \n",
      "1                         2                                2   \n",
      "2                         2                                2   \n",
      "3                         1                                1   \n",
      "4                         2                                2   \n",
      "\n",
      "   ChronicCond_stroke  IPAnnualReimbursementAmt  IPAnnualDeductibleAmt  \\\n",
      "0                   1                     36000                   3204   \n",
      "1                   2                         0                      0   \n",
      "2                   2                         0                      0   \n",
      "3                   2                         0                      0   \n",
      "4                   2                         0                      0   \n",
      "\n",
      "   OPAnnualReimbursementAmt  OPAnnualDeductibleAmt  \n",
      "0                        60                     70  \n",
      "1                        30                     50  \n",
      "2                        90                     40  \n",
      "3                      1810                    760  \n",
      "4                      1790                   1200  \n",
      "\n",
      "[5 rows x 25 columns]\n"
     ]
    }
   ],
   "source": [
    "# Now lets look at the first few rows of the data frame\n",
    "print(benf_df.head())"
   ]
  },
  {
   "cell_type": "markdown",
   "metadata": {},
   "source": [
    "##### It looks like the Gender is binary as expected with 2 values. To confirm we can just look at the number of unique elements and convert it to a boolean variable."
   ]
  },
  {
   "cell_type": "code",
   "execution_count": 6,
   "metadata": {},
   "outputs": [
    {
     "data": {
      "text/plain": [
       "<Axes: >"
      ]
     },
     "execution_count": 6,
     "metadata": {},
     "output_type": "execute_result"
    },
    {
     "data": {
      "image/png": "[encoded data removed]",
      "text/plain": [
       "<Figure size 640x480 with 1 Axes>"
      ]
     },
     "metadata": {},
     "output_type": "display_data"
    }
   ],
   "source": [
    "# Plot  counts for gender. Probably 1 indicates Male and 2 is Female\n",
    "benf_df['Gender'].value_counts().plot(kind='bar')"
   ]
  },
  {
   "cell_type": "code",
   "execution_count": 7,
   "metadata": {},
   "outputs": [],
   "source": [
    "# lets make this category boolean, so that 1 indicates Female and 2 as male\n",
    "benf_df['Gender'] = benf_df['Gender'].map({1: 0, 2: 1})"
   ]
  },
  {
   "cell_type": "code",
   "execution_count": 8,
   "metadata": {},
   "outputs": [
    {
     "data": {
      "text/plain": [
       "<Axes: >"
      ]
     },
     "execution_count": 8,
     "metadata": {},
     "output_type": "execute_result"
    },
    {
     "data": {
      "image/png": "[encoded data removed]",
      "text/plain": [
       "<Figure size 640x480 with 1 Axes>"
      ]
     },
     "metadata": {},
     "output_type": "display_data"
    }
   ],
   "source": [
    "# Now lets also plot the boolean values for race\n",
    "benf_df['Race'].value_counts().plot(kind='bar')"
   ]
  },
  {
   "cell_type": "markdown",
   "metadata": {},
   "source": [
    "##### It looks like the race is not evenly distributed in the dataset, with most values beloning to 1 primary class. So probably we can encode this as binary with 0 being white  and 1 being other races."
   ]
  },
  {
   "cell_type": "code",
   "execution_count": 9,
   "metadata": {},
   "outputs": [],
   "source": [
    "# Lets make this category boolean, so that 0 indicates White and 1 as Non-White\n",
    "benf_df['Race'] = benf_df['Race'].map(lambda x: 'White' if x ==1 else 'Non-White').map({'White': 0, 'Non-White': 1})"
   ]
  },
  {
   "cell_type": "code",
   "execution_count": 10,
   "metadata": {},
   "outputs": [
    {
     "data": {
      "text/plain": [
       "<Axes: >"
      ]
     },
     "execution_count": 10,
     "metadata": {},
     "output_type": "execute_result"
    },
    {
     "data": {
      "image/png": "[encoded data removed]",
      "text/plain": [
       "<Figure size 640x480 with 1 Axes>"
      ]
     },
     "metadata": {},
     "output_type": "display_data"
    }
   ],
   "source": [
    "# Now lets also plot the boolean values for race\n",
    "benf_df['Race'].value_counts().plot(kind='bar')"
   ]
  },
  {
   "cell_type": "markdown",
   "metadata": {},
   "source": []
  },
  {
   "cell_type": "code",
   "execution_count": 11,
   "metadata": {},
   "outputs": [
    {
     "data": {
      "text/plain": [
       "<Axes: >"
      ]
     },
     "execution_count": 11,
     "metadata": {},
     "output_type": "execute_result"
    },
    {
     "data": {
      "image/png": "[encoded data removed]",
      "text/plain": [
       "<Figure size 640x480 with 1 Axes>"
      ]
     },
     "metadata": {},
     "output_type": "display_data"
    }
   ],
   "source": [
    "benf_df['Race'].value_counts().plot(kind='bar')"
   ]
  },
  {
   "cell_type": "code",
   "execution_count": 12,
   "metadata": {},
   "outputs": [],
   "source": [
    "# Convert the date of birth and date of death to datetime format\n",
    "benf_df['DOB'] = pd.to_datetime(benf_df['DOB'], format='%Y-%m-%d')\n",
    "benf_df['DOD'] = pd.to_datetime(benf_df['DOB'], format='%Y-%m-%d')"
   ]
  },
  {
   "cell_type": "code",
   "execution_count": 13,
   "metadata": {},
   "outputs": [],
   "source": [
    "# Since state and county are categorical values. lets convert them accordingly\n",
    "benf_df['State'] = benf_df['State'].astype('category')\n",
    "benf_df['County'] = benf_df['County'].astype('category')"
   ]
  },
  {
   "cell_type": "code",
   "execution_count": 14,
   "metadata": {},
   "outputs": [
    {
     "data": {
      "text/plain": [
       "<Axes: >"
      ]
     },
     "execution_count": 14,
     "metadata": {},
     "output_type": "execute_result"
    },
    {
     "data": {
      "image/png": "[encoded data removed]",
      "text/plain": [
       "<Figure size 640x480 with 1 Axes>"
      ]
     },
     "metadata": {},
     "output_type": "display_data"
    }
   ],
   "source": [
    "# Plot the distribution across states\n",
    "benf_df['State'].value_counts().sort_index().plot(kind='bar')"
   ]
  },
  {
   "cell_type": "code",
   "execution_count": 15,
   "metadata": {},
   "outputs": [
    {
     "data": {
      "text/plain": [
       "<Axes: >"
      ]
     },
     "execution_count": 15,
     "metadata": {},
     "output_type": "execute_result"
    },
    {
     "data": {
      "image/png": "[encoded data removed]",
      "text/plain": [
       "<Figure size 640x480 with 1 Axes>"
      ]
     },
     "metadata": {},
     "output_type": "display_data"
    }
   ],
   "source": [
    "# Lets plot the values of Renal Disease indicator.\n",
    "benf_df['RenalDiseaseIndicator'].value_counts().plot(kind='bar')"
   ]
  },
  {
   "cell_type": "code",
   "execution_count": 16,
   "metadata": {},
   "outputs": [],
   "source": [
    "# It is apparent that we need to first convert it to Boolean\n",
    "benf_df['RenalDiseaseIndicator'] = benf_df['RenalDiseaseIndicator'].map({'0': 0, \"Y\": 1})"
   ]
  },
  {
   "cell_type": "code",
   "execution_count": 19,
   "metadata": {},
   "outputs": [
    {
     "data": {
      "text/plain": [
       "<Axes: >"
      ]
     },
     "execution_count": 19,
     "metadata": {},
     "output_type": "execute_result"
    },
    {
     "data": {
      "image/png": "[encoded data removed]",
      "text/plain": [
       "<Figure size 640x480 with 1 Axes>"
      ]
     },
     "metadata": {},
     "output_type": "display_data"
    }
   ],
   "source": [
    "benf_df['RenalDiseaseIndicator'].value_counts().plot(kind='bar')"
   ]
  },
  {
   "cell_type": "code",
   "execution_count": null,
   "metadata": {},
   "outputs": [],
   "source": [
    "##### Now lets examine the no of months of Part A and Part B coverage"
   ]
  },
  {
   "cell_type": "code",
   "execution_count": 20,
   "metadata": {},
   "outputs": [
    {
     "data": {
      "text/plain": [
       "<Axes: >"
      ]
     },
     "execution_count": 20,
     "metadata": {},
     "output_type": "execute_result"
    },
    {
     "data": {
      "image/png": "[encoded data removed]",
      "text/plain": [
       "<Figure size 640x480 with 1 Axes>"
      ]
     },
     "metadata": {},
     "output_type": "display_data"
    }
   ],
   "source": [
    "benf_df['NoOfMonths_PartACov'].value_counts().plot(kind='bar')"
   ]
  },
  {
   "cell_type": "code",
   "execution_count": 21,
   "metadata": {},
   "outputs": [
    {
     "data": {
      "text/plain": [
       "<Axes: >"
      ]
     },
     "execution_count": 21,
     "metadata": {},
     "output_type": "execute_result"
    },
    {
     "data": {
      "image/png": "[encoded data removed]",
      "text/plain": [
       "<Figure size 640x480 with 1 Axes>"
      ]
     },
     "metadata": {},
     "output_type": "display_data"
    }
   ],
   "source": [
    "benf_df['NoOfMonths_PartBCov'].value_counts().plot(kind='bar')"
   ]
  },
  {
   "cell_type": "code",
   "execution_count": 15,
   "metadata": {},
   "outputs": [
    {
     "data": {
      "text/html": [
       "<div>\n",
       "<style scoped>\n",
       "    .dataframe tbody tr th:only-of-type {\n",
       "        vertical-align: middle;\n",
       "    }\n",
       "\n",
       "    .dataframe tbody tr th {\n",
       "        vertical-align: top;\n",
       "    }\n",
       "\n",
       "    .dataframe thead th {\n",
       "        text-align: right;\n",
       "    }\n",
       "</style>\n",
       "<table border=\"1\" class=\"dataframe\">\n",
       "  <thead>\n",
       "    <tr style=\"text-align: right;\">\n",
       "      <th></th>\n",
       "      <th>Gender</th>\n",
       "      <th>Race</th>\n",
       "      <th>State</th>\n",
       "      <th>County</th>\n",
       "      <th>NoOfMonths_PartACov</th>\n",
       "      <th>NoOfMonths_PartBCov</th>\n",
       "      <th>ChronicCond_Alzheimer</th>\n",
       "      <th>ChronicCond_Heartfailure</th>\n",
       "      <th>ChronicCond_KidneyDisease</th>\n",
       "      <th>ChronicCond_Cancer</th>\n",
       "      <th>...</th>\n",
       "      <th>ChronicCond_Depression</th>\n",
       "      <th>ChronicCond_Diabetes</th>\n",
       "      <th>ChronicCond_IschemicHeart</th>\n",
       "      <th>ChronicCond_Osteoporasis</th>\n",
       "      <th>ChronicCond_rheumatoidarthritis</th>\n",
       "      <th>ChronicCond_stroke</th>\n",
       "      <th>IPAnnualReimbursementAmt</th>\n",
       "      <th>IPAnnualDeductibleAmt</th>\n",
       "      <th>OPAnnualReimbursementAmt</th>\n",
       "      <th>OPAnnualDeductibleAmt</th>\n",
       "    </tr>\n",
       "  </thead>\n",
       "  <tbody>\n",
       "    <tr>\n",
       "      <th>count</th>\n",
       "      <td>138556.000000</td>\n",
       "      <td>138556.000000</td>\n",
       "      <td>138556.000000</td>\n",
       "      <td>138556.000000</td>\n",
       "      <td>138556.000000</td>\n",
       "      <td>138556.000000</td>\n",
       "      <td>138556.000000</td>\n",
       "      <td>138556.000000</td>\n",
       "      <td>138556.000000</td>\n",
       "      <td>138556.000000</td>\n",
       "      <td>...</td>\n",
       "      <td>138556.000000</td>\n",
       "      <td>138556.000000</td>\n",
       "      <td>138556.000000</td>\n",
       "      <td>138556.000000</td>\n",
       "      <td>138556.000000</td>\n",
       "      <td>138556.000000</td>\n",
       "      <td>138556.000000</td>\n",
       "      <td>138556.000000</td>\n",
       "      <td>138556.000000</td>\n",
       "      <td>138556.000000</td>\n",
       "    </tr>\n",
       "    <tr>\n",
       "      <th>mean</th>\n",
       "      <td>1.570932</td>\n",
       "      <td>1.254511</td>\n",
       "      <td>25.666734</td>\n",
       "      <td>374.424745</td>\n",
       "      <td>11.907727</td>\n",
       "      <td>11.910145</td>\n",
       "      <td>1.667817</td>\n",
       "      <td>1.506322</td>\n",
       "      <td>1.687643</td>\n",
       "      <td>1.880041</td>\n",
       "      <td>...</td>\n",
       "      <td>1.644476</td>\n",
       "      <td>1.398142</td>\n",
       "      <td>1.324143</td>\n",
       "      <td>1.725317</td>\n",
       "      <td>1.743180</td>\n",
       "      <td>1.920942</td>\n",
       "      <td>3660.346502</td>\n",
       "      <td>399.847296</td>\n",
       "      <td>1298.219348</td>\n",
       "      <td>377.718258</td>\n",
       "    </tr>\n",
       "    <tr>\n",
       "      <th>std</th>\n",
       "      <td>0.494945</td>\n",
       "      <td>0.717007</td>\n",
       "      <td>15.223443</td>\n",
       "      <td>266.277581</td>\n",
       "      <td>1.032332</td>\n",
       "      <td>0.936893</td>\n",
       "      <td>0.470998</td>\n",
       "      <td>0.499962</td>\n",
       "      <td>0.463456</td>\n",
       "      <td>0.324914</td>\n",
       "      <td>...</td>\n",
       "      <td>0.478674</td>\n",
       "      <td>0.489517</td>\n",
       "      <td>0.468056</td>\n",
       "      <td>0.446356</td>\n",
       "      <td>0.436881</td>\n",
       "      <td>0.269831</td>\n",
       "      <td>9568.621827</td>\n",
       "      <td>956.175202</td>\n",
       "      <td>2493.901134</td>\n",
       "      <td>645.530187</td>\n",
       "    </tr>\n",
       "    <tr>\n",
       "      <th>min</th>\n",
       "      <td>1.000000</td>\n",
       "      <td>1.000000</td>\n",
       "      <td>1.000000</td>\n",
       "      <td>0.000000</td>\n",
       "      <td>0.000000</td>\n",
       "      <td>0.000000</td>\n",
       "      <td>1.000000</td>\n",
       "      <td>1.000000</td>\n",
       "      <td>1.000000</td>\n",
       "      <td>1.000000</td>\n",
       "      <td>...</td>\n",
       "      <td>1.000000</td>\n",
       "      <td>1.000000</td>\n",
       "      <td>1.000000</td>\n",
       "      <td>1.000000</td>\n",
       "      <td>1.000000</td>\n",
       "      <td>1.000000</td>\n",
       "      <td>-8000.000000</td>\n",
       "      <td>0.000000</td>\n",
       "      <td>-70.000000</td>\n",
       "      <td>0.000000</td>\n",
       "    </tr>\n",
       "    <tr>\n",
       "      <th>25%</th>\n",
       "      <td>1.000000</td>\n",
       "      <td>1.000000</td>\n",
       "      <td>11.000000</td>\n",
       "      <td>141.000000</td>\n",
       "      <td>12.000000</td>\n",
       "      <td>12.000000</td>\n",
       "      <td>1.000000</td>\n",
       "      <td>1.000000</td>\n",
       "      <td>1.000000</td>\n",
       "      <td>2.000000</td>\n",
       "      <td>...</td>\n",
       "      <td>1.000000</td>\n",
       "      <td>1.000000</td>\n",
       "      <td>1.000000</td>\n",
       "      <td>1.000000</td>\n",
       "      <td>1.000000</td>\n",
       "      <td>2.000000</td>\n",
       "      <td>0.000000</td>\n",
       "      <td>0.000000</td>\n",
       "      <td>170.000000</td>\n",
       "      <td>40.000000</td>\n",
       "    </tr>\n",
       "    <tr>\n",
       "      <th>50%</th>\n",
       "      <td>2.000000</td>\n",
       "      <td>1.000000</td>\n",
       "      <td>25.000000</td>\n",
       "      <td>340.000000</td>\n",
       "      <td>12.000000</td>\n",
       "      <td>12.000000</td>\n",
       "      <td>2.000000</td>\n",
       "      <td>2.000000</td>\n",
       "      <td>2.000000</td>\n",
       "      <td>2.000000</td>\n",
       "      <td>...</td>\n",
       "      <td>2.000000</td>\n",
       "      <td>1.000000</td>\n",
       "      <td>1.000000</td>\n",
       "      <td>2.000000</td>\n",
       "      <td>2.000000</td>\n",
       "      <td>2.000000</td>\n",
       "      <td>0.000000</td>\n",
       "      <td>0.000000</td>\n",
       "      <td>570.000000</td>\n",
       "      <td>170.000000</td>\n",
       "    </tr>\n",
       "    <tr>\n",
       "      <th>75%</th>\n",
       "      <td>2.000000</td>\n",
       "      <td>1.000000</td>\n",
       "      <td>39.000000</td>\n",
       "      <td>570.000000</td>\n",
       "      <td>12.000000</td>\n",
       "      <td>12.000000</td>\n",
       "      <td>2.000000</td>\n",
       "      <td>2.000000</td>\n",
       "      <td>2.000000</td>\n",
       "      <td>2.000000</td>\n",
       "      <td>...</td>\n",
       "      <td>2.000000</td>\n",
       "      <td>2.000000</td>\n",
       "      <td>2.000000</td>\n",
       "      <td>2.000000</td>\n",
       "      <td>2.000000</td>\n",
       "      <td>2.000000</td>\n",
       "      <td>2280.000000</td>\n",
       "      <td>1068.000000</td>\n",
       "      <td>1500.000000</td>\n",
       "      <td>460.000000</td>\n",
       "    </tr>\n",
       "    <tr>\n",
       "      <th>max</th>\n",
       "      <td>2.000000</td>\n",
       "      <td>5.000000</td>\n",
       "      <td>54.000000</td>\n",
       "      <td>999.000000</td>\n",
       "      <td>12.000000</td>\n",
       "      <td>12.000000</td>\n",
       "      <td>2.000000</td>\n",
       "      <td>2.000000</td>\n",
       "      <td>2.000000</td>\n",
       "      <td>2.000000</td>\n",
       "      <td>...</td>\n",
       "      <td>2.000000</td>\n",
       "      <td>2.000000</td>\n",
       "      <td>2.000000</td>\n",
       "      <td>2.000000</td>\n",
       "      <td>2.000000</td>\n",
       "      <td>2.000000</td>\n",
       "      <td>161470.000000</td>\n",
       "      <td>38272.000000</td>\n",
       "      <td>102960.000000</td>\n",
       "      <td>13840.000000</td>\n",
       "    </tr>\n",
       "  </tbody>\n",
       "</table>\n",
       "<p>8 rows × 21 columns</p>\n",
       "</div>"
      ],
      "text/plain": [
       "              Gender           Race          State         County  \\\n",
       "count  138556.000000  138556.000000  138556.000000  138556.000000   \n",
       "mean        1.570932       1.254511      25.666734     374.424745   \n",
       "std         0.494945       0.717007      15.223443     266.277581   \n",
       "min         1.000000       1.000000       1.000000       0.000000   \n",
       "25%         1.000000       1.000000      11.000000     141.000000   \n",
       "50%         2.000000       1.000000      25.000000     340.000000   \n",
       "75%         2.000000       1.000000      39.000000     570.000000   \n",
       "max         2.000000       5.000000      54.000000     999.000000   \n",
       "\n",
       "       NoOfMonths_PartACov  NoOfMonths_PartBCov  ChronicCond_Alzheimer  \\\n",
       "count        138556.000000        138556.000000          138556.000000   \n",
       "mean             11.907727            11.910145               1.667817   \n",
       "std               1.032332             0.936893               0.470998   \n",
       "min               0.000000             0.000000               1.000000   \n",
       "25%              12.000000            12.000000               1.000000   \n",
       "50%              12.000000            12.000000               2.000000   \n",
       "75%              12.000000            12.000000               2.000000   \n",
       "max              12.000000            12.000000               2.000000   \n",
       "\n",
       "       ChronicCond_Heartfailure  ChronicCond_KidneyDisease  \\\n",
       "count             138556.000000              138556.000000   \n",
       "mean                   1.506322                   1.687643   \n",
       "std                    0.499962                   0.463456   \n",
       "min                    1.000000                   1.000000   \n",
       "25%                    1.000000                   1.000000   \n",
       "50%                    2.000000                   2.000000   \n",
       "75%                    2.000000                   2.000000   \n",
       "max                    2.000000                   2.000000   \n",
       "\n",
       "       ChronicCond_Cancer  ...  ChronicCond_Depression  ChronicCond_Diabetes  \\\n",
       "count       138556.000000  ...           138556.000000         138556.000000   \n",
       "mean             1.880041  ...                1.644476              1.398142   \n",
       "std              0.324914  ...                0.478674              0.489517   \n",
       "min              1.000000  ...                1.000000              1.000000   \n",
       "25%              2.000000  ...                1.000000              1.000000   \n",
       "50%              2.000000  ...                2.000000              1.000000   \n",
       "75%              2.000000  ...                2.000000              2.000000   \n",
       "max              2.000000  ...                2.000000              2.000000   \n",
       "\n",
       "       ChronicCond_IschemicHeart  ChronicCond_Osteoporasis  \\\n",
       "count              138556.000000             138556.000000   \n",
       "mean                    1.324143                  1.725317   \n",
       "std                     0.468056                  0.446356   \n",
       "min                     1.000000                  1.000000   \n",
       "25%                     1.000000                  1.000000   \n",
       "50%                     1.000000                  2.000000   \n",
       "75%                     2.000000                  2.000000   \n",
       "max                     2.000000                  2.000000   \n",
       "\n",
       "       ChronicCond_rheumatoidarthritis  ChronicCond_stroke  \\\n",
       "count                    138556.000000       138556.000000   \n",
       "mean                          1.743180            1.920942   \n",
       "std                           0.436881            0.269831   \n",
       "min                           1.000000            1.000000   \n",
       "25%                           1.000000            2.000000   \n",
       "50%                           2.000000            2.000000   \n",
       "75%                           2.000000            2.000000   \n",
       "max                           2.000000            2.000000   \n",
       "\n",
       "       IPAnnualReimbursementAmt  IPAnnualDeductibleAmt  \\\n",
       "count             138556.000000          138556.000000   \n",
       "mean                3660.346502             399.847296   \n",
       "std                 9568.621827             956.175202   \n",
       "min                -8000.000000               0.000000   \n",
       "25%                    0.000000               0.000000   \n",
       "50%                    0.000000               0.000000   \n",
       "75%                 2280.000000            1068.000000   \n",
       "max               161470.000000           38272.000000   \n",
       "\n",
       "       OPAnnualReimbursementAmt  OPAnnualDeductibleAmt  \n",
       "count             138556.000000          138556.000000  \n",
       "mean                1298.219348             377.718258  \n",
       "std                 2493.901134             645.530187  \n",
       "min                  -70.000000               0.000000  \n",
       "25%                  170.000000              40.000000  \n",
       "50%                  570.000000             170.000000  \n",
       "75%                 1500.000000             460.000000  \n",
       "max               102960.000000           13840.000000  \n",
       "\n",
       "[8 rows x 21 columns]"
      ]
     },
     "execution_count": 15,
     "metadata": {},
     "output_type": "execute_result"
    }
   ],
   "source": [
    "benf_df.describe()"
   ]
  },
  {
   "cell_type": "code",
   "execution_count": 28,
   "metadata": {},
   "outputs": [
    {
     "data": {
      "text/plain": [
       "<Axes: >"
      ]
     },
     "execution_count": 28,
     "metadata": {},
     "output_type": "execute_result"
    },
    {
     "data": {
      "image/png": "[encoded data removed]",
      "text/plain": [
       "<Figure size 640x480 with 1 Axes>"
      ]
     },
     "metadata": {},
     "output_type": "display_data"
    }
   ],
   "source": [
    "benf_df.loc[benf_df['IPAnnualReimbursementAmt']!=0, 'IPAnnualReimbursementAmt'].hist(bins = 100)"
   ]
  },
  {
   "cell_type": "code",
   "execution_count": 31,
   "metadata": {},
   "outputs": [],
   "source": [
    "benf_df['State'] = benf_df['State'].astype(str)"
   ]
  },
  {
   "cell_type": "code",
   "execution_count": 32,
   "metadata": {},
   "outputs": [
    {
     "data": {
      "text/plain": [
       "dtype('O')"
      ]
     },
     "execution_count": 32,
     "metadata": {},
     "output_type": "execute_result"
    }
   ],
   "source": [
    "benf_df['State'].dtype"
   ]
  },
  {
   "cell_type": "code",
   "execution_count": 40,
   "metadata": {},
   "outputs": [
    {
     "data": {
      "text/plain": [
       "<Axes: xlabel='State', ylabel='count'>"
      ]
     },
     "execution_count": 40,
     "metadata": {},
     "output_type": "execute_result"
    },
    {
     "data": {
      "image/png": "[encoded data removed]",
      "text/plain": [
       "<Figure size 640x480 with 1 Axes>"
      ]
     },
     "metadata": {},
     "output_type": "display_data"
    }
   ],
   "source": [
    "sns.countplot(x = benf_df['State'])"
   ]
  },
  {
   "cell_type": "code",
   "execution_count": 35,
   "metadata": {},
   "outputs": [
    {
     "data": {
      "text/plain": [
       "0    39\n",
       "1    39\n",
       "2    52\n",
       "3    39\n",
       "4    24\n",
       "Name: State, dtype: object"
      ]
     },
     "execution_count": 35,
     "metadata": {},
     "output_type": "execute_result"
    }
   ],
   "source": [
    "benf_df['State'].head()"
   ]
  },
  {
   "cell_type": "code",
   "execution_count": 30,
   "metadata": {},
   "outputs": [
    {
     "name": "stderr",
     "output_type": "stream",
     "text": [
      "C:\\Users\\prady\\AppData\\Local\\Temp\\ipykernel_16968\\3554923919.py:2: UserWarning: \n",
      "\n",
      "`distplot` is a deprecated function and will be removed in seaborn v0.14.0.\n",
      "\n",
      "Please adapt your code to use either `displot` (a figure-level function with\n",
      "similar flexibility) or `histplot` (an axes-level function for histograms).\n",
      "\n",
      "For a guide to updating your code to use the new functions, please see\n",
      "https://gist.github.com/mwaskom/de44147ed2974457ad6372750bbe5751\n",
      "\n",
      "  sns.distplot(benf_df.loc[benf_df['IPAnnualReimbursementAmt']!=0, 'IPAnnualReimbursementAmt'], kde =False)\n"
     ]
    },
    {
     "data": {
      "text/plain": [
       "<Axes: xlabel='IPAnnualReimbursementAmt'>"
      ]
     },
     "execution_count": 30,
     "metadata": {},
     "output_type": "execute_result"
    },
    {
     "data": {
      "image/png": "[encoded data removed]",
      "text/plain": [
       "<Figure size 640x480 with 1 Axes>"
      ]
     },
     "metadata": {},
     "output_type": "display_data"
    }
   ],
   "source": [
    "import seaborn as sns\n",
    "sns.distplot(benf_df.loc[benf_df['IPAnnualReimbursementAmt']!=0, 'IPAnnualReimbursementAmt'], kde =False)"
   ]
  },
  {
   "cell_type": "code",
   "execution_count": 33,
   "metadata": {},
   "outputs": [
    {
     "name": "stdout",
     "output_type": "stream",
     "text": [
      "<class 'pandas.core.frame.DataFrame'>\n",
      "RangeIndex: 138556 entries, 0 to 138555\n",
      "Data columns (total 25 columns):\n",
      " #   Column                           Non-Null Count   Dtype \n",
      "---  ------                           --------------   ----- \n",
      " 0   BeneID                           138556 non-null  object\n",
      " 1   DOB                              138556 non-null  object\n",
      " 2   DOD                              1421 non-null    object\n",
      " 3   Gender                           138556 non-null  int64 \n",
      " 4   Race                             138556 non-null  int64 \n",
      " 5   RenalDiseaseIndicator            138556 non-null  object\n",
      " 6   State                            138556 non-null  object\n",
      " 7   County                           138556 non-null  int64 \n",
      " 8   NoOfMonths_PartACov              138556 non-null  int64 \n",
      " 9   NoOfMonths_PartBCov              138556 non-null  int64 \n",
      " 10  ChronicCond_Alzheimer            138556 non-null  int64 \n",
      " 11  ChronicCond_Heartfailure         138556 non-null  int64 \n",
      " 12  ChronicCond_KidneyDisease        138556 non-null  int64 \n",
      " 13  ChronicCond_Cancer               138556 non-null  int64 \n",
      " 14  ChronicCond_ObstrPulmonary       138556 non-null  int64 \n",
      " 15  ChronicCond_Depression           138556 non-null  int64 \n",
      " 16  ChronicCond_Diabetes             138556 non-null  int64 \n",
      " 17  ChronicCond_IschemicHeart        138556 non-null  int64 \n",
      " 18  ChronicCond_Osteoporasis         138556 non-null  int64 \n",
      " 19  ChronicCond_rheumatoidarthritis  138556 non-null  int64 \n",
      " 20  ChronicCond_stroke               138556 non-null  int64 \n",
      " 21  IPAnnualReimbursementAmt         138556 non-null  int64 \n",
      " 22  IPAnnualDeductibleAmt            138556 non-null  int64 \n",
      " 23  OPAnnualReimbursementAmt         138556 non-null  int64 \n",
      " 24  OPAnnualDeductibleAmt            138556 non-null  int64 \n",
      "dtypes: int64(20), object(5)\n",
      "memory usage: 26.4+ MB\n"
     ]
    }
   ],
   "source": [
    "benf_df.info()"
   ]
  },
  {
   "cell_type": "code",
   "execution_count": 21,
   "metadata": {},
   "outputs": [
    {
     "data": {
      "text/plain": [
       "0    39\n",
       "1    39\n",
       "2    52\n",
       "3    39\n",
       "4    24\n",
       "Name: State, dtype: int64"
      ]
     },
     "execution_count": 21,
     "metadata": {},
     "output_type": "execute_result"
    }
   ],
   "source": [
    "benf_df['State'].head()"
   ]
  },
  {
   "cell_type": "code",
   "execution_count": 6,
   "metadata": {},
   "outputs": [
    {
     "data": {
      "text/plain": [
       "Index(['BeneID', 'DOB', 'DOD', 'Gender', 'Race', 'RenalDiseaseIndicator',\n",
       "       'State', 'County', 'NoOfMonths_PartACov', 'NoOfMonths_PartBCov',\n",
       "       'ChronicCond_Alzheimer', 'ChronicCond_Heartfailure',\n",
       "       'ChronicCond_KidneyDisease', 'ChronicCond_Cancer',\n",
       "       'ChronicCond_ObstrPulmonary', 'ChronicCond_Depression',\n",
       "       'ChronicCond_Diabetes', 'ChronicCond_IschemicHeart',\n",
       "       'ChronicCond_Osteoporasis', 'ChronicCond_rheumatoidarthritis',\n",
       "       'ChronicCond_stroke', 'IPAnnualReimbursementAmt',\n",
       "       'IPAnnualDeductibleAmt', 'OPAnnualReimbursementAmt',\n",
       "       'OPAnnualDeductibleAmt'],\n",
       "      dtype='object')"
      ]
     },
     "execution_count": 6,
     "metadata": {},
     "output_type": "execute_result"
    }
   ],
   "source": [
    "# Explore the data frames\n",
    "benf_df.columns"
   ]
  },
  {
   "cell_type": "markdown",
   "metadata": {},
   "source": [
    "## 1. Buisiness problem"
   ]
  },
  {
   "cell_type": "code",
   "execution_count": null,
   "metadata": {},
   "outputs": [],
   "source": []
  },
  {
   "cell_type": "markdown",
   "metadata": {},
   "source": [
    "## 2. Exploratory data analysis (EDA)"
   ]
  },
  {
   "cell_type": "code",
   "execution_count": null,
   "metadata": {},
   "outputs": [],
   "source": []
  },
  {
   "cell_type": "markdown",
   "metadata": {},
   "source": [
    "## 3. Data cleaning and Preperation"
   ]
  },
  {
   "cell_type": "code",
   "execution_count": null,
   "metadata": {},
   "outputs": [],
   "source": []
  },
  {
   "cell_type": "markdown",
   "metadata": {},
   "source": [
    "## 4. Modeling"
   ]
  },
  {
   "cell_type": "code",
   "execution_count": null,
   "metadata": {},
   "outputs": [],
   "source": []
  },
  {
   "cell_type": "markdown",
   "metadata": {},
   "source": [
    "## 5. Evaluation"
   ]
  },
  {
   "cell_type": "code",
   "execution_count": null,
   "metadata": {},
   "outputs": [],
   "source": []
  },
  {
   "cell_type": "markdown",
   "metadata": {},
   "source": [
    "## 6. Deployment"
   ]
  },
  {
   "cell_type": "code",
   "execution_count": null,
   "metadata": {},
   "outputs": [],
   "source": []
  }
 ],
 "metadata": {
  "kernelspec": {
   "display_name": "base",
   "language": "python",
   "name": "python3"
  },
  "language_info": {
   "codemirror_mode": {
    "name": "ipython",
    "version": 3
   },
   "file_extension": ".py",
   "mimetype": "text/x-python",
   "name": "python",
   "nbconvert_exporter": "python",
   "pygments_lexer": "ipython3",
   "version": "3.11.4"
  },
  "orig_nbformat": 4
 },
 "nbformat": 4,
 "nbformat_minor": 2
}
