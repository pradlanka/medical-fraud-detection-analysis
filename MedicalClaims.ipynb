{
 "cells": [
  {
   "cell_type": "code",
   "execution_count": 2,
   "metadata": {},
   "outputs": [],
   "source": [
    "# Load all the necessary packages\n",
    "import numpy as np\n",
    "import pandas as pd\n",
    "import matplotlib.pyplot as plt\n",
    "import seaborn as sns"
   ]
  },
  {
   "cell_type": "code",
   "execution_count": 3,
   "metadata": {},
   "outputs": [],
   "source": [
    "# Load the data\n",
    "benf_df = pd.read_csv('data\\Train_Beneficiarydata-1542865627584.csv')\n",
    "inpatient_df = pd.read_csv('data\\Train_Inpatientdata-1542865627584.csv')\n",
    "outpatient_df = pd.read_csv('data\\Train_Outpatientdata-1542865627584.csv')\n",
    "labels_df = pd.read_csv('data\\Train-1542865627584.csv')"
   ]
  },
  {
   "cell_type": "code",
   "execution_count": 4,
   "metadata": {},
   "outputs": [
    {
     "data": {
      "text/plain": [
       "<bound method NDFrame.head of             BeneID         DOB  DOD  Gender  Race RenalDiseaseIndicator  \\\n",
       "0        BENE11001  1943-01-01  NaN       1     1                     0   \n",
       "1        BENE11002  1936-09-01  NaN       2     1                     0   \n",
       "2        BENE11003  1936-08-01  NaN       1     1                     0   \n",
       "3        BENE11004  1922-07-01  NaN       1     1                     0   \n",
       "4        BENE11005  1935-09-01  NaN       1     1                     0   \n",
       "...            ...         ...  ...     ...   ...                   ...   \n",
       "138551  BENE159194  1939-07-01  NaN       1     1                     0   \n",
       "138552  BENE159195  1938-12-01  NaN       2     1                     0   \n",
       "138553  BENE159196  1916-06-01  NaN       2     1                     0   \n",
       "138554  BENE159197  1930-01-01  NaN       1     1                     0   \n",
       "138555  BENE159198  1952-04-01  NaN       2     1                     0   \n",
       "\n",
       "        State  County  NoOfMonths_PartACov  NoOfMonths_PartBCov  ...  \\\n",
       "0          39     230                   12                   12  ...   \n",
       "1          39     280                   12                   12  ...   \n",
       "2          52     590                   12                   12  ...   \n",
       "3          39     270                   12                   12  ...   \n",
       "4          24     680                   12                   12  ...   \n",
       "...       ...     ...                  ...                  ...  ...   \n",
       "138551     39     140                   12                   12  ...   \n",
       "138552     49     530                   12                   12  ...   \n",
       "138553      6     150                   12                   12  ...   \n",
       "138554     16     560                   12                   12  ...   \n",
       "138555     21      20                   12                   12  ...   \n",
       "\n",
       "        ChronicCond_Depression  ChronicCond_Diabetes  \\\n",
       "0                            1                     1   \n",
       "1                            2                     2   \n",
       "2                            2                     2   \n",
       "3                            2                     1   \n",
       "4                            2                     1   \n",
       "...                        ...                   ...   \n",
       "138551                       2                     2   \n",
       "138552                       2                     1   \n",
       "138553                       1                     1   \n",
       "138554                       2                     2   \n",
       "138555                       1                     1   \n",
       "\n",
       "        ChronicCond_IschemicHeart  ChronicCond_Osteoporasis  \\\n",
       "0                               1                         2   \n",
       "1                               2                         2   \n",
       "2                               1                         2   \n",
       "3                               1                         1   \n",
       "4                               2                         2   \n",
       "...                           ...                       ...   \n",
       "138551                          2                         2   \n",
       "138552                          2                         2   \n",
       "138553                          1                         2   \n",
       "138554                          1                         2   \n",
       "138555                          2                         2   \n",
       "\n",
       "        ChronicCond_rheumatoidarthritis  ChronicCond_stroke  \\\n",
       "0                                     1                   1   \n",
       "1                                     2                   2   \n",
       "2                                     2                   2   \n",
       "3                                     1                   2   \n",
       "4                                     2                   2   \n",
       "...                                 ...                 ...   \n",
       "138551                                2                   2   \n",
       "138552                                2                   2   \n",
       "138553                                2                   2   \n",
       "138554                                2                   2   \n",
       "138555                                1                   2   \n",
       "\n",
       "        IPAnnualReimbursementAmt  IPAnnualDeductibleAmt  \\\n",
       "0                          36000                   3204   \n",
       "1                              0                      0   \n",
       "2                              0                      0   \n",
       "3                              0                      0   \n",
       "4                              0                      0   \n",
       "...                          ...                    ...   \n",
       "138551                         0                      0   \n",
       "138552                         0                      0   \n",
       "138553                      2000                   1068   \n",
       "138554                         0                      0   \n",
       "138555                         0                      0   \n",
       "\n",
       "        OPAnnualReimbursementAmt  OPAnnualDeductibleAmt  \n",
       "0                             60                     70  \n",
       "1                             30                     50  \n",
       "2                             90                     40  \n",
       "3                           1810                    760  \n",
       "4                           1790                   1200  \n",
       "...                          ...                    ...  \n",
       "138551                       430                    460  \n",
       "138552                       880                    100  \n",
       "138553                      3240                   1390  \n",
       "138554                      2650                     10  \n",
       "138555                      5470                   1870  \n",
       "\n",
       "[138556 rows x 25 columns]>"
      ]
     },
     "execution_count": 4,
     "metadata": {},
     "output_type": "execute_result"
    }
   ],
   "source": [
    "# Explore the data frames\n",
    "benf_df.head"
   ]
  },
  {
   "cell_type": "markdown",
   "metadata": {},
   "source": [
    "## 1. Buisiness problem"
   ]
  },
  {
   "cell_type": "code",
   "execution_count": null,
   "metadata": {},
   "outputs": [],
   "source": []
  },
  {
   "cell_type": "markdown",
   "metadata": {},
   "source": [
    "## 2. Exploratory data analysis (EDA)"
   ]
  },
  {
   "cell_type": "code",
   "execution_count": null,
   "metadata": {},
   "outputs": [],
   "source": []
  },
  {
   "cell_type": "markdown",
   "metadata": {},
   "source": [
    "## 3. Data cleaning and Preperation"
   ]
  },
  {
   "cell_type": "code",
   "execution_count": null,
   "metadata": {},
   "outputs": [],
   "source": []
  },
  {
   "cell_type": "markdown",
   "metadata": {},
   "source": [
    "## 4. Modeling"
   ]
  },
  {
   "cell_type": "code",
   "execution_count": null,
   "metadata": {},
   "outputs": [],
   "source": []
  },
  {
   "cell_type": "markdown",
   "metadata": {},
   "source": [
    "## 5. Evaluation"
   ]
  },
  {
   "cell_type": "code",
   "execution_count": null,
   "metadata": {},
   "outputs": [],
   "source": []
  },
  {
   "cell_type": "markdown",
   "metadata": {},
   "source": [
    "## 6. Deployment"
   ]
  },
  {
   "cell_type": "code",
   "execution_count": null,
   "metadata": {},
   "outputs": [],
   "source": []
  }
 ],
 "metadata": {
  "kernelspec": {
   "display_name": "base",
   "language": "python",
   "name": "python3"
  },
  "language_info": {
   "codemirror_mode": {
    "name": "ipython",
    "version": 3
   },
   "file_extension": ".py",
   "mimetype": "text/x-python",
   "name": "python",
   "nbconvert_exporter": "python",
   "pygments_lexer": "ipython3",
   "version": "3.11.4"
  },
  "orig_nbformat": 4
 },
 "nbformat": 4,
 "nbformat_minor": 2
}
